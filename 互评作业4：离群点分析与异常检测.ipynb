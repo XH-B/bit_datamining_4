{
 "cells": [
  {
   "cell_type": "markdown",
   "metadata": {},
   "source": [
    "# 作业说明：\n",
    "\n",
    "数据挖掘互评作业四：离群点分析与异常检测\n",
    "\n",
    "1. 问题描述\n",
    "\n",
    "本次作业将从Anomaly Detection Meta-Analysis Benchmarks提供的benchmark数据集中任选两个进行分析。\n",
    "\n",
    "2. 数据来源\n",
    "\n",
    "Anomaly Detection Meta-Analysis Benchmarks\n",
    "\n",
    "注意：第一个不是数据集，是用于生成benchmark数据的代码。\n",
    "\n",
    "可以使用Python Outlier Detection (PyOD)或其他已知的工具包来完成分析工作。\n",
    "\n",
    "3. 提交的内容\n",
    "\n",
    "完整的分析代码\n",
    "分析报告：展示分析的思路，详细过程，结果及你的分析。\n",
    "所选择的数据集在README中说明，数据文件不要上传到Github中\n",
    "乐学平台提交注意事项：\n",
    "\n",
    "仓库地址：记得加上\n",
    "报告：附件，word，pdf，html格式都可以\n"
   ]
  },
  {
   "cell_type": "markdown",
   "metadata": {},
   "source": [
    "# 1.实验步骤：\n",
    "（1）在原始整体数据集上利用多种算法找到全局的离群点。\n",
    "\n",
    "（2）分别评测各个算法（CBLOF，KNN，HBOS，PCA）的性能。\n",
    "# 2.使用的算法描述：\n",
    "\n",
    "实验中利用PyOD工具分别使用基于邻近性的CBLOF、KNN、HBOS及基于聚类的IForest、FeatureBagging异常检测算法。\n",
    "\n",
    "1、CBLOF算法\n",
    "\n",
    "CBLOF算法是基于聚类和邻近性的异常检测方法，它将数据分为香型集群和大型集群，然后根据点所属的簇的大小以及到最近的大簇的距离来计算异常分数。\n",
    "\n",
    "2、KNN算法\n",
    "\n",
    "KNN算法是典型的基于邻近性的异常检测算法，对于任何数据点，到第k个最近邻居的距离可以被视为远离分数，PyOD支持三个KNN探测器，分别为最大KNN、均值KNN以及中位数KNN，区别在于作为离群值得分的距离的计算方法。在这里我们用默认的最大KNN算法，也就是使用最大距离作为离群值。\n",
    "\n",
    "3、HBOS算法\n",
    "\n",
    " 是一种线性复杂度的异常检测算法，它比多变量方法快得多，但代价是精度较低。HBOS算法基于多维数据各个维度的独立性假设，对于单个数据维度，先做出数据直方图。对于categroy 值，统计每个值出现的次数，并计算相对频率\n",
    " \n",
    "4、PAC算法\n",
    "\n",
    "PCA通过线性变换将原始数据变换为一组各维度线性无关的表示，可用于提取数据的主要特征分量，常用于高维数据的降维。\n",
    "\n",
    "我们在本研究中使用AUC指标，AUC指标是模型评测常用的指标之一，直观含义是任意取一个正样本和负样本，正样本得分大于负样本的概率。\n"
   ]
  },
  {
   "cell_type": "code",
   "execution_count": 3,
   "metadata": {},
   "outputs": [],
   "source": [
    "import pandas as pd\n",
    "import numpy as np\n",
    "from pyod.models.cblof import CBLOF\n",
    "from pyod.models.iforest import IForest\n",
    "from pyod.models.knn import KNN\n",
    "from pyod.models.lof import LOF\n",
    "import os\n",
    "from sklearn.metrics import precision_recall_curve\n",
    "from sklearn.metrics import average_precision_score\n",
    "from pyod.utils.data import get_outliers_inliers\n",
    "from mpl_toolkits.mplot3d import Axes3D\n",
    "import matplotlib.pyplot as plt\n",
    "from pyod.models.pca import PCA\n",
    "from pyod.models.knn import KNN\n",
    "from pyod.models.lof import LOF\n",
    "from pyod.models.hbos import HBOS\n",
    "from time import *\n",
    "from sklearn.utils import shuffle\n",
    "from sklearn.metrics import roc_auc_score\n",
    "from sklearn.utils import column_or_1d\n",
    "from sklearn.utils import check_consistent_length\n",
    "from pyod.utils.utility import precision_n_scores"
   ]
  },
  {
   "cell_type": "markdown",
   "metadata": {},
   "source": [
    "## 1. 选用数据集1：skin_benchmarks\n",
    "该数据集中标注后的原始数据skin.preproc.csv中包括的9个数据列，分别为point.id、motherset、origin、original.label、diff.score、ground.truth、R、G、B，其中重要的是ground.truth、R、G、B，ground.truth为标注好的正确标签，R、G、B为数据属性特征值，用来进行预测。\n",
    "\n",
    "划分后的子数据集共包括1500个.csv数据文件（注：文件的最大标号为1740，但实际只包括了1500个文件），每个子数据文件的主要数据列和原始数据相同。 \n",
    "###  1.1 整体数据集异常检测和算法评测"
   ]
  },
  {
   "cell_type": "code",
   "execution_count": 12,
   "metadata": {},
   "outputs": [
    {
     "name": "stdout",
     "output_type": "stream",
     "text": [
      "在数据集的benchmarks目录下包含1500个skin_benchmark文件，每个benchmark文件中包含6000条记录，      选取R\\G\bB三个属性以及ground.truth进行离群点分析与异常检测。\n"
     ]
    },
    {
     "data": {
      "text/html": [
       "<div>\n",
       "<style scoped>\n",
       "    .dataframe tbody tr th:only-of-type {\n",
       "        vertical-align: middle;\n",
       "    }\n",
       "\n",
       "    .dataframe tbody tr th {\n",
       "        vertical-align: top;\n",
       "    }\n",
       "\n",
       "    .dataframe thead th {\n",
       "        text-align: right;\n",
       "    }\n",
       "</style>\n",
       "<table border=\"1\" class=\"dataframe\">\n",
       "  <thead>\n",
       "    <tr style=\"text-align: right;\">\n",
       "      <th></th>\n",
       "      <th>point.id</th>\n",
       "      <th>motherset</th>\n",
       "      <th>origin</th>\n",
       "      <th>original.label</th>\n",
       "      <th>diff.score</th>\n",
       "      <th>ground.truth</th>\n",
       "      <th>R</th>\n",
       "      <th>G</th>\n",
       "      <th>B</th>\n",
       "    </tr>\n",
       "  </thead>\n",
       "  <tbody>\n",
       "    <tr>\n",
       "      <th>0</th>\n",
       "      <td>skin_point_117027</td>\n",
       "      <td>skin</td>\n",
       "      <td>binary</td>\n",
       "      <td>2</td>\n",
       "      <td>0.020405</td>\n",
       "      <td>nominal</td>\n",
       "      <td>-1.864336</td>\n",
       "      <td>-2.110524</td>\n",
       "      <td>-1.587289</td>\n",
       "    </tr>\n",
       "    <tr>\n",
       "      <th>1</th>\n",
       "      <td>skin_point_016927</td>\n",
       "      <td>skin</td>\n",
       "      <td>binary</td>\n",
       "      <td>1</td>\n",
       "      <td>0.000250</td>\n",
       "      <td>anomaly</td>\n",
       "      <td>0.384456</td>\n",
       "      <td>0.925785</td>\n",
       "      <td>1.747782</td>\n",
       "    </tr>\n",
       "    <tr>\n",
       "      <th>2</th>\n",
       "      <td>skin_point_240995</td>\n",
       "      <td>skin</td>\n",
       "      <td>binary</td>\n",
       "      <td>2</td>\n",
       "      <td>0.001285</td>\n",
       "      <td>nominal</td>\n",
       "      <td>-0.980882</td>\n",
       "      <td>-1.092860</td>\n",
       "      <td>-1.394351</td>\n",
       "    </tr>\n",
       "    <tr>\n",
       "      <th>3</th>\n",
       "      <td>skin_point_018861</td>\n",
       "      <td>skin</td>\n",
       "      <td>binary</td>\n",
       "      <td>1</td>\n",
       "      <td>0.000739</td>\n",
       "      <td>anomaly</td>\n",
       "      <td>-1.125447</td>\n",
       "      <td>-0.542320</td>\n",
       "      <td>0.383435</td>\n",
       "    </tr>\n",
       "    <tr>\n",
       "      <th>4</th>\n",
       "      <td>skin_point_087883</td>\n",
       "      <td>skin</td>\n",
       "      <td>binary</td>\n",
       "      <td>2</td>\n",
       "      <td>0.001053</td>\n",
       "      <td>nominal</td>\n",
       "      <td>-0.964819</td>\n",
       "      <td>-1.076177</td>\n",
       "      <td>-1.380570</td>\n",
       "    </tr>\n",
       "  </tbody>\n",
       "</table>\n",
       "</div>"
      ],
      "text/plain": [
       "            point.id motherset  origin  original.label  diff.score  \\\n",
       "0  skin_point_117027      skin  binary               2    0.020405   \n",
       "1  skin_point_016927      skin  binary               1    0.000250   \n",
       "2  skin_point_240995      skin  binary               2    0.001285   \n",
       "3  skin_point_018861      skin  binary               1    0.000739   \n",
       "4  skin_point_087883      skin  binary               2    0.001053   \n",
       "\n",
       "  ground.truth         R         G         B  \n",
       "0      nominal -1.864336 -2.110524 -1.587289  \n",
       "1      anomaly  0.384456  0.925785  1.747782  \n",
       "2      nominal -0.980882 -1.092860 -1.394351  \n",
       "3      anomaly -1.125447 -0.542320  0.383435  \n",
       "4      nominal -0.964819 -1.076177 -1.380570  "
      ]
     },
     "execution_count": 12,
     "metadata": {},
     "output_type": "execute_result"
    }
   ],
   "source": [
    "path_1 = 'C:/Users/BIAN/Downloads/skin_benchmarks/skin/benchmarks'\n",
    "\n",
    "names_1 = os.listdir(path_1)\n",
    "paths_1 = []\n",
    "for i in range(len(names_1)):\n",
    "    paths_1.append(os.path.join(path_1,names_1[i]))\n",
    "    \n",
    "df= pd.read_csv(paths_1[0])\n",
    "\n",
    "print('在数据集的benchmarks目录下包含1500个skin_benchmark文件，每个benchmark文件中包含6000条记录，\\\n",
    "      选取R\\G\\bB三个属性以及ground.truth进行离群点分析与异常检测。')\n",
    "df.head()"
   ]
  },
  {
   "cell_type": "code",
   "execution_count": 13,
   "metadata": {},
   "outputs": [
    {
     "name": "stdout",
     "output_type": "stream",
     "text": [
      "原始数据的正常点数量8207355，离群点数量791724\n"
     ]
    }
   ],
   "source": [
    "count = 0\n",
    "all_count = 0\n",
    "for i in range(len(paths_1)):\n",
    "    data_1 = pd.read_csv(paths_1[i])\n",
    "\n",
    "    count += data_1.shape[0]\n",
    "    all_count += data_1[data_1['ground.truth']=='nominal'].shape[0]\n",
    "    \n",
    "\n",
    "print('原始数据的正常点数量{}，离群点数量{}'.format(all_count,count-all_count))\n",
    "    "
   ]
  },
  {
   "cell_type": "code",
   "execution_count": 14,
   "metadata": {},
   "outputs": [
    {
     "name": "stdout",
     "output_type": "stream",
     "text": [
      "非异常点和异常点的3D显示\n"
     ]
    },
    {
     "data": {
      "image/png": "[encoded data removed]",
      "text/plain": [
       "<Figure size 576x288 with 2 Axes>"
      ]
     },
     "metadata": {
      "needs_background": "light"
     },
     "output_type": "display_data"
    }
   ],
   "source": [
    "r = df['R'][df['ground.truth']=='anomaly']\n",
    "g = df['G'][df['ground.truth']=='anomaly']\n",
    "b = df['B'][df['ground.truth']=='anomaly']\n",
    "\n",
    "r_no = df['R'][df['ground.truth']=='nominal']\n",
    "g_no = df['G'][df['ground.truth']=='nominal']\n",
    "b_no = df['B'][df['ground.truth']=='nominal']\n",
    "\n",
    "fig = plt.figure(figsize=plt.figaspect(0.5))\n",
    "ax = fig.add_subplot(1,2,1,projection='3d')\n",
    "ax.scatter3D(r_no,g_no ,b_no ,c='b')\n",
    "\n",
    "ax = fig.add_subplot(1,2,2,projection='3d')\n",
    "ax.scatter3D(r,g,b,c='r')\n",
    "\n",
    "print('非异常点和异常点的3D显示')\n",
    "plt.show()\n"
   ]
  },
  {
   "cell_type": "code",
   "execution_count": 24,
   "metadata": {},
   "outputs": [
    {
     "name": "stdout",
     "output_type": "stream",
     "text": [
      "CBLOF\n",
      "0\n",
      "500\n",
      "1000\n",
      "预测的情况：正常值：8099279，异常值：899800，准确率：0.8266629285063505\n",
      "KNN\n",
      "0\n",
      "500\n",
      "1000\n",
      "预测的情况：正常值：8099277，异常值：899802，准确率：0.82299210841465\n",
      "HBOS\n",
      "0\n",
      "500\n",
      "1000\n",
      "预测的情况：正常值：8129193，异常值：869886，准确率：0.8241504491737432\n",
      "PCA\n",
      "0\n",
      "500\n",
      "1000\n",
      "预测的情况：正常值：8099661，异常值：899418，准确率：0.8198975695179473\n"
     ]
    }
   ],
   "source": [
    "\n",
    "train_scale = 1\n",
    "\n",
    "normal = []\n",
    "non_normal = []\n",
    "right_num = []\n",
    "score_1 = []\n",
    "\n",
    "AUC_1 =[]\n",
    "AP_1 = []\n",
    "\n",
    "name = ['CBLOF','KNN','HBOS','PCA']\n",
    "for i in range(len(name)):\n",
    "    print(name[i])\n",
    "    \n",
    "    if i==0:\n",
    "        clf = CBLOF(random_state=np.random.RandomState(42))\n",
    "    elif i==1:\n",
    "        clf = KNN(n_neighbors = 5) \n",
    "    elif i==2:\n",
    "#         clf = IForest(contamination=outliers_fraction,random_state=random_state)\n",
    "        clf = HBOS()\n",
    "    else:\n",
    "        clf = PCA() \n",
    "            \n",
    "    sum_normal = 0\n",
    "    sum_nonnormal = 0\n",
    "    sum_right = 0\n",
    "    for i in range(len(paths_1)):\n",
    "\n",
    "        if i%500==0:\n",
    "            print(i)\n",
    "        df = pd.read_csv(paths_1[i])\n",
    "\n",
    "        data = df[['R','G','B']]\n",
    "        label = np.where(df['ground.truth']=='nominal',0,1)\n",
    "\n",
    "\n",
    "        data_train = data[:int(train_scale*len(data))]\n",
    "\n",
    "        data_test = data[int(train_scale*len(data)):]\n",
    "\n",
    "        data_train_label = label[:int(train_scale*len(data))]\n",
    "\n",
    "        data_test_label = label[int(train_scale*len(data)):]\n",
    "\n",
    "\n",
    "        clf.fit(data_train)\n",
    "\n",
    "        y_pred = clf.labels_\n",
    "\n",
    "        n_out = np.count_nonzero(y_pred)\n",
    "        n_normal = len(y_pred)- n_out\n",
    "        \n",
    "        AUC_1.append(roc_auc_score(data_train_label,y_pred))\n",
    "        AP_1.append(average_precision_score(data_train_label, y_pred))\n",
    "\n",
    "        sum_normal+=n_normal\n",
    "        sum_nonnormal+=n_out\n",
    "\n",
    "        sum_right +=np.equal(y_pred,data_train_label).sum()\n",
    "\n",
    "    \n",
    "    print('预测的情况：正常值：{}，异常值：{}，准确率：{}'.format(sum_normal,sum_nonnormal,sum_right/(sum_nonnormal+sum_normal)))\n",
    "    normal.append(sum_normal)\n",
    "    non_normal.append(sum_nonnormal)\n",
    "    right_num.append(sum_right)\n",
    "    score_1.append(sum_right/(sum_nonnormal+sum_normal))\n",
    "    \n",
    "\n",
    "\n",
    "    \n"
   ]
  },
  {
   "cell_type": "markdown",
   "metadata": {},
   "source": [
    "由上面的训练结果可以知道。\n",
    "原始数据集中的正常点数量8207355，离群点数量791724，\n",
    "我们通过4种算法预测的结果 正常点的数量平均为80万左右，异常点的数量为89万左右，\n",
    "\n",
    "\n",
    "计算了每个算法预测结果的准确率如下:\n",
    "CBLOF算法的均值为0.826；KNN算法的均值为0.822；HBOS算法的均值为0.824；PCA 算法的均值为0.0.81；\n",
    "其中CBLOF算法在该数据集上的性能较好。\n"
   ]
  },
  {
   "cell_type": "code",
   "execution_count": 28,
   "metadata": {},
   "outputs": [
    {
     "name": "stdout",
     "output_type": "stream",
     "text": [
      "每个算法的AUC值\n",
      "AUC: CBLOF：0.6106872466927874，KNN：0.6771319635751973，HBOS：0.5026159475817054，PCA：0.4769085121266091 \n",
      "从AUC值看，KNN算法性能较为稳定，它的性能受到离群点所占比例的影响是比较小的。\n"
     ]
    }
   ],
   "source": [
    "AUC_end = []\n",
    "for i in [0.25,0.5,0.75,1]:\n",
    "    AUC_end.append(np.mean(AUC_1[int((i-0.25)*len(AUC_1)):int(i*len(AUC_1))]))\n",
    "\n",
    "print('每个算法的AUC值')\n",
    "print('AUC: CBLOF：{}，KNN：{}，HBOS：{}，PCA：{} '.format(AUC_end[0],AUC_end[1],AUC_end[2],AUC_end[3]))\n",
    "\n",
    "print('从AUC值看，KNN算法性能较为稳定，它的性能受到离群点所占比例的影响是比较小的。')\n"
   ]
  },
  {
   "cell_type": "code",
   "execution_count": 141,
   "metadata": {
    "scrolled": false
   },
   "outputs": [
    {
     "data": {
      "image/png": "[encoded data removed]",
      "text/plain": [
       "<Figure size 432x288 with 1 Axes>"
      ]
     },
     "metadata": {
      "needs_background": "light"
     },
     "output_type": "display_data"
    }
   ],
   "source": [
    "\n",
    "name_1 = ['CBLOF','KNN','HBOS','PCA']\n",
    "plt.plot(name_1,score_1)\n",
    "plt.show()\n"
   ]
  },
  {
   "cell_type": "code",
   "execution_count": null,
   "metadata": {},
   "outputs": [],
   "source": [
    "根据预测的结果可以看出，CBLOF的准确率较高"
   ]
  },
  {
   "cell_type": "markdown",
   "metadata": {},
   "source": [
    "\n",
    "# 2 abalone-benchmark\n",
    "## 2.1 数据集分析\n",
    "在数据集的benchmarks目录下包含1725个skin_benchmark文件，每个benchmark文件中包含1888条记录，选取V1-V7七个属性以及ground.truth进行离群点分析与异常检测"
   ]
  },
  {
   "cell_type": "code",
   "execution_count": 16,
   "metadata": {},
   "outputs": [
    {
     "data": {
      "text/html": [
       "<div>\n",
       "<style scoped>\n",
       "    .dataframe tbody tr th:only-of-type {\n",
       "        vertical-align: middle;\n",
       "    }\n",
       "\n",
       "    .dataframe tbody tr th {\n",
       "        vertical-align: top;\n",
       "    }\n",
       "\n",
       "    .dataframe thead th {\n",
       "        text-align: right;\n",
       "    }\n",
       "</style>\n",
       "<table border=\"1\" class=\"dataframe\">\n",
       "  <thead>\n",
       "    <tr style=\"text-align: right;\">\n",
       "      <th></th>\n",
       "      <th>point.id</th>\n",
       "      <th>motherset</th>\n",
       "      <th>origin</th>\n",
       "      <th>original.label</th>\n",
       "      <th>diff.score</th>\n",
       "      <th>ground.truth</th>\n",
       "      <th>V1</th>\n",
       "      <th>V2</th>\n",
       "      <th>V3</th>\n",
       "      <th>V4</th>\n",
       "      <th>V5</th>\n",
       "      <th>V6</th>\n",
       "      <th>V7</th>\n",
       "    </tr>\n",
       "  </thead>\n",
       "  <tbody>\n",
       "    <tr>\n",
       "      <th>0</th>\n",
       "      <td>abalone_point_1584</td>\n",
       "      <td>abalone</td>\n",
       "      <td>regression</td>\n",
       "      <td>7</td>\n",
       "      <td>0.153312</td>\n",
       "      <td>nominal</td>\n",
       "      <td>-0.116511</td>\n",
       "      <td>-0.129799</td>\n",
       "      <td>-0.227518</td>\n",
       "      <td>-0.461352</td>\n",
       "      <td>-0.353066</td>\n",
       "      <td>-0.342963</td>\n",
       "      <td>-0.551935</td>\n",
       "    </tr>\n",
       "    <tr>\n",
       "      <th>1</th>\n",
       "      <td>abalone_point_0315</td>\n",
       "      <td>abalone</td>\n",
       "      <td>regression</td>\n",
       "      <td>23</td>\n",
       "      <td>0.202253</td>\n",
       "      <td>anomaly</td>\n",
       "      <td>0.882716</td>\n",
       "      <td>0.777094</td>\n",
       "      <td>0.848341</td>\n",
       "      <td>0.960988</td>\n",
       "      <td>0.333986</td>\n",
       "      <td>1.039157</td>\n",
       "      <td>1.588828</td>\n",
       "    </tr>\n",
       "    <tr>\n",
       "      <th>2</th>\n",
       "      <td>abalone_point_1779</td>\n",
       "      <td>abalone</td>\n",
       "      <td>regression</td>\n",
       "      <td>8</td>\n",
       "      <td>0.562701</td>\n",
       "      <td>nominal</td>\n",
       "      <td>-0.283048</td>\n",
       "      <td>-0.532863</td>\n",
       "      <td>0.489721</td>\n",
       "      <td>0.103505</td>\n",
       "      <td>-0.048961</td>\n",
       "      <td>0.313886</td>\n",
       "      <td>0.313709</td>\n",
       "    </tr>\n",
       "    <tr>\n",
       "      <th>3</th>\n",
       "      <td>abalone_point_1926</td>\n",
       "      <td>abalone</td>\n",
       "      <td>regression</td>\n",
       "      <td>11</td>\n",
       "      <td>0.209155</td>\n",
       "      <td>anomaly</td>\n",
       "      <td>0.716178</td>\n",
       "      <td>0.625945</td>\n",
       "      <td>0.609261</td>\n",
       "      <td>0.713225</td>\n",
       "      <td>0.930932</td>\n",
       "      <td>0.893190</td>\n",
       "      <td>0.396322</td>\n",
       "    </tr>\n",
       "    <tr>\n",
       "      <th>4</th>\n",
       "      <td>abalone_point_0588</td>\n",
       "      <td>abalone</td>\n",
       "      <td>regression</td>\n",
       "      <td>13</td>\n",
       "      <td>0.163268</td>\n",
       "      <td>anomaly</td>\n",
       "      <td>0.216565</td>\n",
       "      <td>0.021350</td>\n",
       "      <td>0.131102</td>\n",
       "      <td>-0.000494</td>\n",
       "      <td>-0.224666</td>\n",
       "      <td>0.090375</td>\n",
       "      <td>0.080237</td>\n",
       "    </tr>\n",
       "  </tbody>\n",
       "</table>\n",
       "</div>"
      ],
      "text/plain": [
       "             point.id motherset      origin  original.label  diff.score  \\\n",
       "0  abalone_point_1584   abalone  regression               7    0.153312   \n",
       "1  abalone_point_0315   abalone  regression              23    0.202253   \n",
       "2  abalone_point_1779   abalone  regression               8    0.562701   \n",
       "3  abalone_point_1926   abalone  regression              11    0.209155   \n",
       "4  abalone_point_0588   abalone  regression              13    0.163268   \n",
       "\n",
       "  ground.truth        V1        V2        V3        V4        V5        V6  \\\n",
       "0      nominal -0.116511 -0.129799 -0.227518 -0.461352 -0.353066 -0.342963   \n",
       "1      anomaly  0.882716  0.777094  0.848341  0.960988  0.333986  1.039157   \n",
       "2      nominal -0.283048 -0.532863  0.489721  0.103505 -0.048961  0.313886   \n",
       "3      anomaly  0.716178  0.625945  0.609261  0.713225  0.930932  0.893190   \n",
       "4      anomaly  0.216565  0.021350  0.131102 -0.000494 -0.224666  0.090375   \n",
       "\n",
       "         V7  \n",
       "0 -0.551935  \n",
       "1  1.588828  \n",
       "2  0.313709  \n",
       "3  0.396322  \n",
       "4  0.080237  "
      ]
     },
     "execution_count": 16,
     "metadata": {},
     "output_type": "execute_result"
    }
   ],
   "source": [
    "path_2 = 'C:/Users/BIAN/Downloads/abalone_benchmarks/abalone/benchmarks/'\n",
    "name_2 = os.listdir(path_2)\n",
    "paths_2 =[]\n",
    "for i in range(len(name_2)):\n",
    "    paths_2.append(os.path.join(path_2,name_2[i]))\n",
    "df_2= pd.read_csv(paths_2[0])\n",
    "\n",
    "df_2.head()"
   ]
  },
  {
   "cell_type": "code",
   "execution_count": 17,
   "metadata": {},
   "outputs": [
    {
     "name": "stdout",
     "output_type": "stream",
     "text": [
      "原始数据的正常点数量2488142，离群点数量324743\n"
     ]
    }
   ],
   "source": [
    "count = 0\n",
    "all_count = 0\n",
    "for i in range(len(paths_2)):\n",
    "    data_2 = pd.read_csv(paths_2[i])\n",
    "\n",
    "    count += data_2.shape[0]\n",
    "    all_count += data_2[data_2['ground.truth']=='nominal'].shape[0]\n",
    "    \n",
    "\n",
    "print('原始数据的正常点数量{}，离群点数量{}'.format(all_count,count-all_count))"
   ]
  },
  {
   "cell_type": "code",
   "execution_count": 6,
   "metadata": {},
   "outputs": [
    {
     "name": "stdout",
     "output_type": "stream",
     "text": [
      "CBLOF\n",
      "0\n",
      "500\n",
      "1000\n",
      "1500\n",
      "正常值：2531001，异常值：281884，预测准确率：0.8269239588536325\n",
      "KNN\n",
      "0\n",
      "500\n",
      "1000\n",
      "1500\n",
      "正常值：2531038，异常值：281847，预测准确率：0.835470700010843\n",
      "HBOS\n",
      "0\n",
      "500\n",
      "1000\n",
      "1500\n",
      "正常值：2535647，异常值：277238，预测准确率：0.8348005695220387\n",
      "PCA\n",
      "0\n",
      "500\n",
      "1000\n",
      "1500\n",
      "正常值：2531001，异常值：281884，预测准确率：0.8221011523755859\n"
     ]
    }
   ],
   "source": [
    "train_scale = 1\n",
    "\n",
    "normal_2 = []\n",
    "non_normal_2 = []\n",
    "right_num_2 = []\n",
    "score_2 = []\n",
    "\n",
    "AUC_2 =[]\n",
    "AP_2 = []\n",
    "name = ['CBLOF','KNN','HBOS','PCA']\n",
    "for i in range(len(name)):\n",
    "    print(name[i])\n",
    "    \n",
    "    if i==0:\n",
    "        clf = CBLOF(random_state=42)\n",
    "    elif i==1:\n",
    "        clf = KNN(n_neighbors = 5) \n",
    "    elif i==2:\n",
    "#         clf = IForest(contamination=outliers_fraction,random_state=random_state)\n",
    "        clf = HBOS()\n",
    "    else:\n",
    "        clf = PCA() \n",
    "        \n",
    "    sum_normal = 0\n",
    "    sum_nonnormal = 0\n",
    "    sum_right = 0\n",
    "    for i in range(len(paths_2)):\n",
    "\n",
    "        if i%500==0:\n",
    "            print(i)\n",
    "        df = pd.read_csv(paths_2[i])\n",
    "\n",
    "        data = df[['V1','V2','V3','V4','V5','V6','V7']]\n",
    "        label = np.where(df['ground.truth']=='nominal',0,1)\n",
    "\n",
    "\n",
    "        data_train = data[:int(train_scale*len(data))]\n",
    "#         print(data_train.shape)\n",
    "\n",
    "        data_test = data[int(train_scale*len(data)):]\n",
    "\n",
    "        data_train_label = label[:int(train_scale*len(data))]\n",
    "\n",
    "        data_test_label = label[int(train_scale*len(data)):]\n",
    "\n",
    "\n",
    "        clf.fit(data_train)\n",
    "\n",
    "        y_pred = clf.labels_\n",
    "        \n",
    "\n",
    "        n_out = np.count_nonzero(y_pred)\n",
    "        n_normal = len(y_pred)- n_out\n",
    "        AUC_2.append(roc_auc_score(label,y_pred))\n",
    "        AP_2.append(average_precision_score(label, y_pred))\n",
    "\n",
    "        sum_normal+=n_normal\n",
    "        sum_nonnormal+=n_out\n",
    "\n",
    "        sum_right +=np.equal(y_pred,data_train_label).sum()\n",
    "\n",
    "    \n",
    "    print('正常值：{}，异常值：{}，预测准确率：{}'.format(sum_normal,sum_nonnormal,sum_right/(sum_nonnormal+sum_normal)))\n",
    "    normal_2.append(sum_normal)\n",
    "    non_normal_2.append(sum_nonnormal)\n",
    "    right_num_2.append(sum_right)\n",
    "    score_2.append(sum_right/(sum_nonnormal+sum_normal))"
   ]
  },
  {
   "cell_type": "code",
   "execution_count": 29,
   "metadata": {},
   "outputs": [
    {
     "name": "stdout",
     "output_type": "stream",
     "text": [
      "每个算法的AUC值\n",
      "AUC: CBLOF：0.637167943092218，KNN：0.664305676583141，HBOS：0.6641891955318046，PCA：0.629981850164103 \n",
      "从AUC值看，KNN算法性能较为稳定，它的性能受到离群点所占比例的影响是比较小的。\n"
     ]
    }
   ],
   "source": [
    "AUC_end = []\n",
    "for i in [0.25,0.5,0.75,1]:\n",
    "    AUC_end.append(np.mean(AUC_2[int((i-0.25)*len(AUC_2)):int(i*len(AUC_2))]))\n",
    "\n",
    "\n",
    "print('每个算法的AUC值')\n",
    "print('AUC: CBLOF：{}，KNN：{}，HBOS：{}，PCA：{} '.format(AUC_end[0],AUC_end[1],AUC_end[2],AUC_end[3]))\n",
    "print('从AUC值看，KNN算法性能较为稳定，它的性能受到离群点所占比例的影响是比较小的。')         "
   ]
  },
  {
   "cell_type": "code",
   "execution_count": 111,
   "metadata": {
    "scrolled": false
   },
   "outputs": [
    {
     "data": {
      "image/png": "[encoded data removed]",
      "text/plain": [
       "<Figure size 432x288 with 1 Axes>"
      ]
     },
     "metadata": {
      "needs_background": "light"
     },
     "output_type": "display_data"
    }
   ],
   "source": [
    "plt.plot(name,score)\n",
    "plt.show()"
   ]
  },
  {
   "cell_type": "markdown",
   "metadata": {},
   "source": [
    "根据预测的结果可知，非异常值的预测数量基本一致，在对异常值的预测上，数量差距较大，最大差距为3000个，准确率都在80%以上，其中KNN表现的比较好，HBOS也表现了很好的异常点检测能力。"
   ]
  }
 ],
 "metadata": {
  "kernelspec": {
   "display_name": "Python 3",
   "language": "python",
   "name": "python3"
  },
  "language_info": {
   "codemirror_mode": {
    "name": "ipython",
    "version": 3
   },
   "file_extension": ".py",
   "mimetype": "text/x-python",
   "name": "python",
   "nbconvert_exporter": "python",
   "pygments_lexer": "ipython3",
   "version": "3.7.3"
  }
 },
 "nbformat": 4,
 "nbformat_minor": 2
}
